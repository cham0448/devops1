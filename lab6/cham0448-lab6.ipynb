{
 "cells": [
  {
   "cell_type": "code",
   "execution_count": 2,
   "id": "6e7bd9f1",
   "metadata": {},
   "outputs": [
    {
     "name": "stdout",
     "output_type": "stream",
     "text": [
      "Collecting PyGithub\n",
      "  Downloading PyGithub-1.56-py3-none-any.whl (293 kB)\n",
      "Collecting deprecated\n",
      "  Downloading Deprecated-1.2.13-py2.py3-none-any.whl (9.6 kB)\n",
      "Requirement already satisfied: requests>=2.14.0 in c:\\users\\chams\\anaconda3\\lib\\site-packages (from PyGithub) (2.27.1)\n",
      "Requirement already satisfied: pyjwt>=2.0 in c:\\users\\chams\\anaconda3\\lib\\site-packages (from PyGithub) (2.1.0)\n",
      "Requirement already satisfied: pynacl>=1.4.0 in c:\\users\\chams\\anaconda3\\lib\\site-packages (from PyGithub) (1.4.0)\n",
      "Requirement already satisfied: cffi>=1.4.1 in c:\\users\\chams\\anaconda3\\lib\\site-packages (from pynacl>=1.4.0->PyGithub) (1.15.0)\n",
      "Requirement already satisfied: six in c:\\users\\chams\\anaconda3\\lib\\site-packages (from pynacl>=1.4.0->PyGithub) (1.16.0)\n",
      "Requirement already satisfied: pycparser in c:\\users\\chams\\anaconda3\\lib\\site-packages (from cffi>=1.4.1->pynacl>=1.4.0->PyGithub) (2.21)\n",
      "Requirement already satisfied: certifi>=2017.4.17 in c:\\users\\chams\\anaconda3\\lib\\site-packages (from requests>=2.14.0->PyGithub) (2021.10.8)\n",
      "Requirement already satisfied: urllib3<1.27,>=1.21.1 in c:\\users\\chams\\anaconda3\\lib\\site-packages (from requests>=2.14.0->PyGithub) (1.26.9)\n",
      "Requirement already satisfied: charset-normalizer~=2.0.0 in c:\\users\\chams\\anaconda3\\lib\\site-packages (from requests>=2.14.0->PyGithub) (2.0.4)\n",
      "Requirement already satisfied: idna<4,>=2.5 in c:\\users\\chams\\anaconda3\\lib\\site-packages (from requests>=2.14.0->PyGithub) (3.3)\n",
      "Requirement already satisfied: wrapt<2,>=1.10 in c:\\users\\chams\\anaconda3\\lib\\site-packages (from deprecated->PyGithub) (1.12.1)\n",
      "Installing collected packages: deprecated, PyGithub\n",
      "Successfully installed PyGithub-1.56 deprecated-1.2.13\n"
     ]
    }
   ],
   "source": [
    "!pip3 install PyGithub\n"
   ]
  },
  {
   "cell_type": "code",
   "execution_count": 4,
   "id": "e34b605e",
   "metadata": {},
   "outputs": [
    {
     "name": "stdout",
     "output_type": "stream",
     "text": [
      "Requirement already satisfied: pyyaml in c:\\users\\chams\\anaconda3\\lib\\site-packages (6.0)\n"
     ]
    }
   ],
   "source": [
    "!pip3 install pyyaml"
   ]
  },
  {
   "cell_type": "code",
   "execution_count": 8,
   "id": "5c5cac9a",
   "metadata": {},
   "outputs": [
    {
     "ename": "FileNotFoundError",
     "evalue": "[Errno 2] No such file or directory: 'cham0448-credentials'",
     "output_type": "error",
     "traceback": [
      "\u001b[1;31m---------------------------------------------------------------------------\u001b[0m",
      "\u001b[1;31mFileNotFoundError\u001b[0m                         Traceback (most recent call last)",
      "Input \u001b[1;32mIn [8]\u001b[0m, in \u001b[0;36m<cell line: 5>\u001b[1;34m()\u001b[0m\n\u001b[0;32m      2\u001b[0m \u001b[38;5;28;01mimport\u001b[39;00m \u001b[38;5;21;01myaml\u001b[39;00m\n\u001b[0;32m      3\u001b[0m \u001b[38;5;66;03m# credentials.yml contains your usr/repo and PAT created in step 11 above\u001b[39;00m\n\u001b[0;32m      4\u001b[0m \u001b[38;5;66;03m# So we load the data into a YML object\u001b[39;00m\n\u001b[1;32m----> 5\u001b[0m data \u001b[38;5;241m=\u001b[39m yaml\u001b[38;5;241m.\u001b[39msafe_load(\u001b[38;5;28;43mopen\u001b[39;49m\u001b[43m(\u001b[49m\u001b[38;5;124;43m'\u001b[39;49m\u001b[38;5;124;43mcham0448-credentials\u001b[39;49m\u001b[38;5;124;43m'\u001b[39;49m\u001b[43m)\u001b[49m)\n\u001b[0;32m      6\u001b[0m \u001b[38;5;66;03m# Extract the user and token from the data object\u001b[39;00m\n\u001b[0;32m      7\u001b[0m \u001b[38;5;66;03m# 0. Complete these 2 lines below\u001b[39;00m\n\u001b[0;32m      8\u001b[0m \u001b[38;5;66;03m# user = ...\u001b[39;00m\n\u001b[0;32m      9\u001b[0m \u001b[38;5;66;03m# token = ...\u001b[39;00m\n\u001b[0;32m     10\u001b[0m \u001b[38;5;66;03m# using an access token\u001b[39;00m\n\u001b[0;32m     11\u001b[0m g \u001b[38;5;241m=\u001b[39m Github(token)\n",
      "\u001b[1;31mFileNotFoundError\u001b[0m: [Errno 2] No such file or directory: 'cham0448-credentials'"
     ]
    }
   ],
   "source": [
    "from github import Github\n",
    "import yaml\n",
    "# credentials.yml contains your usr/repo and PAT created in step 11 above\n",
    "# So we load the data into a YML object\n",
    "data = yaml.safe_load(open('cham0448-credentials'))\n",
    "# Extract the user and token from the data object\n",
    "# 0. Complete these 2 lines below\n",
    "# user = ...\n",
    "# token = ...\n",
    "# using an access token\n",
    "g = Github(token)\n",
    "repo = g.get_repo(user)\n",
    "## Complete your tasks from here\n",
    "\n",
    "token = data[\"creds\"][\"token\"]\n",
    "user = data [\"creds\"][\"user\"]"
   ]
  },
  {
   "cell_type": "code",
   "execution_count": 6,
   "id": "0f19eca3",
   "metadata": {},
   "outputs": [
    {
     "ename": "NameError",
     "evalue": "name 'repo' is not defined",
     "output_type": "error",
     "traceback": [
      "\u001b[1;31m---------------------------------------------------------------------------\u001b[0m",
      "\u001b[1;31mNameError\u001b[0m                                 Traceback (most recent call last)",
      "Input \u001b[1;32mIn [6]\u001b[0m, in \u001b[0;36m<cell line: 1>\u001b[1;34m()\u001b[0m\n\u001b[1;32m----> 1\u001b[0m \u001b[38;5;28mlist\u001b[39m(\u001b[43mrepo\u001b[49m\u001b[38;5;241m.\u001b[39mget_branches())\n",
      "\u001b[1;31mNameError\u001b[0m: name 'repo' is not defined"
     ]
    }
   ],
   "source": [
    "list(repo.get_branches())"
   ]
  },
  {
   "cell_type": "code",
   "execution_count": null,
   "id": "731c75ce",
   "metadata": {},
   "outputs": [],
   "source": []
  }
 ],
 "metadata": {
  "kernelspec": {
   "display_name": "Python 3 (ipykernel)",
   "language": "python",
   "name": "python3"
  },
  "language_info": {
   "codemirror_mode": {
    "name": "ipython",
    "version": 3
   },
   "file_extension": ".py",
   "mimetype": "text/x-python",
   "name": "python",
   "nbconvert_exporter": "python",
   "pygments_lexer": "ipython3",
   "version": "3.9.12"
  }
 },
 "nbformat": 4,
 "nbformat_minor": 5
}
